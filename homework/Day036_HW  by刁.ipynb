{
 "cells": [
  {
   "cell_type": "markdown",
   "metadata": {},
   "source": [
    "# 加速：非同步爬蟲\n",
    "\n",
    "* 了解非同步爬蟲加速原理與實作"
   ]
  },
  {
   "cell_type": "markdown",
   "metadata": {},
   "source": [
    "## 作業目標\n",
    "\n",
    "* 比較一下非同步爬蟲跟多線程爬蟲的差異是什麼？各自的優缺點為何？"
   ]
  },
  {
   "cell_type": "code",
   "execution_count": 1,
   "metadata": {
    "scrolled": true
   },
   "outputs": [
    {
     "data": {
      "text/plain": [
       "'\\n\\n多線程爬蟲\\n\\n優點 : 多個執行緒(Thread)同時運作，加速處理時間。\\n\\n缺點 : 消耗系統資源多。\\n\\n\\n\\n\\n非同步爬蟲\\n\\n優點 : 單線程(one thread)運作，充分利用同一執行緒處理   (善用request到response這段等待時間) 。\\n\\n缺點 : 只使用一個CPU去處理，如果要處理的任務多且每個任務都需要大量計算，那單一線程不會優於多線程。\\n\\n\\n\\n整體來講就是IO調度的觀念。\\n\\n\\n\\n'"
      ]
     },
     "execution_count": 1,
     "metadata": {},
     "output_type": "execute_result"
    }
   ],
   "source": [
    "'''\n",
    "\n",
    "多線程爬蟲\n",
    "\n",
    "優點 : 多個執行緒(Thread)同時運作，加速處理時間。\n",
    "\n",
    "缺點 : 消耗系統資源多。\n",
    "\n",
    "\n",
    "\n",
    "\n",
    "非同步爬蟲\n",
    "\n",
    "優點 : 單線程(one thread)運作，充分利用同一執行緒處理   (善用request到response這段等待時間) 。\n",
    "\n",
    "缺點 : 只使用一個CPU去處理，如果要處理的任務多且每個任務都需要大量計算，那單一線程不會優於多線程。\n",
    "\n",
    "\n",
    "\n",
    "整體來講就是IO調度的觀念。\n",
    "\n",
    "\n",
    "\n",
    "'''"
   ]
  },
  {
   "cell_type": "code",
   "execution_count": null,
   "metadata": {},
   "outputs": [],
   "source": []
  }
 ],
 "metadata": {
  "colab": {
   "name": "homework.ipynb",
   "provenance": []
  },
  "kernelspec": {
   "display_name": "Python 3",
   "language": "python",
   "name": "python3"
  },
  "language_info": {
   "codemirror_mode": {
    "name": "ipython",
    "version": 3
   },
   "file_extension": ".py",
   "mimetype": "text/x-python",
   "name": "python",
   "nbconvert_exporter": "python",
   "pygments_lexer": "ipython3",
   "version": "3.7.4"
  }
 },
 "nbformat": 4,
 "nbformat_minor": 1
}
