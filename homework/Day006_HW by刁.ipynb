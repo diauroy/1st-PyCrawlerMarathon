{
 "cells": [
  {
   "cell_type": "markdown",
   "metadata": {},
   "source": [
    "# API 資料串接 - 以 知乎 API 實作範例\n",
    "\n",
    "\n",
    "\n",
    "* 了解知乎 API 使用方式與回傳內容\n",
    "* 撰寫程式存取 API 且添加標頭\n",
    "\n",
    "\n"
   ]
  },
  {
   "cell_type": "markdown",
   "metadata": {},
   "source": [
    "## 作業目標\n",
    "\n",
    "* 根據範例提供的 API ，完成以下問題：\n",
    "\n",
    "    1. 取出知乎問題發問時間\n",
    "    2. 取出第一筆與最後一筆回答的時間\n"
   ]
  },
  {
   "cell_type": "markdown",
   "metadata": {},
   "source": [
    "### 1. 取出知乎問題發問時間"
   ]
  },
  {
   "cell_type": "code",
   "execution_count": 92,
   "metadata": {
    "scrolled": true
   },
   "outputs": [
    {
     "name": "stdout",
     "output_type": "stream",
     "text": [
      "發問時間: 2019-05-14\n",
      "發問時間: 2019-04-01\n",
      "發問時間: 2017-05-02\n",
      "發問時間: 2017-05-02\n",
      "發問時間: 2019-10-29\n"
     ]
    }
   ],
   "source": [
    "# 1. 取出知乎問題發問時間\n",
    "import requests\n",
    "import json\n",
    "from datetime import date\n",
    "\n",
    "# 請求方來源不明確\n",
    "# r = requests.get('https://www.zhihu.com/api/v4/questions/55493026/answers')\n",
    "# print(r.text)\n",
    "\n",
    "\n",
    "#正確方法:加入headers\n",
    "headers = {'user-agent': 'Mozilla/5.0',\n",
    " 'upgrade-insecure-requests': '1',\n",
    " 'authority':'www.zhihu.com',\n",
    " 'cookie':'_zap=686baf21-074f-4ce4-9b7c-41b538d31222; d_c0=\"ALAu0BR4cBCPTpU__9B_9TtSk72naBIC9dA=|1575205578\"; Hm_lvt_98beee57fd2ef70ccdd5ca52b9740c49=1575205568; tgw_l7_route=dee9fd64dc49915f4ffe487a64034d4c; _xsrf=ofCXOgSttz5XmpnW7DLlGaMbWKm8itzj',\n",
    " 'method': 'GET',\n",
    " 'accept': 'text/html,application/xhtml+xml,application/xml;q=0.9,image/webp,image/apng,*/*;q=0.8,application/signed-exchange;v=b3'}\n",
    "#以上headers參數最好全部加入\n",
    "r = requests.get('https://www.zhihu.com/api/v4/questions/55493026/answers', headers=headers)\n",
    "datas=json.loads(r.text)\n",
    "#print(datas)\n",
    "\n",
    "for data in datas['data']:             #注意範圍~  datas['data']\n",
    "    print(\"發問時間:\", date.fromtimestamp(data['created_time']))\n",
    "    "
   ]
  },
  {
   "cell_type": "markdown",
   "metadata": {},
   "source": [
    "### 2. 取出第一筆與最後一筆回答的時間"
   ]
  },
  {
   "cell_type": "code",
   "execution_count": 91,
   "metadata": {},
   "outputs": [
    {
     "name": "stdout",
     "output_type": "stream",
     "text": [
      "第一筆回答時間: Tue May 14 17:00:12 2019\n",
      "最後一筆回答時間: Tue Oct 29 11:07:06 2019\n"
     ]
    }
   ],
   "source": [
    "# 2. 取出第一筆與最後一筆回答的時間\n",
    "\n",
    "import time\n",
    "\n",
    "#第一筆\n",
    "r_first=datas['data'][0]['created_time']\n",
    "\n",
    "#最後一筆\n",
    "r_last=datas['data'][-1]['created_time']\n",
    "\n",
    "print(\"第一筆回答時間:\",time.ctime(r_first))\n",
    "print(\"最後一筆回答時間:\",time.ctime(r_last))\n"
   ]
  },
  {
   "cell_type": "code",
   "execution_count": 90,
   "metadata": {},
   "outputs": [
    {
     "data": {
      "text/plain": [
       "datetime.datetime(2015, 1, 12, 23, 43, 23)"
      ]
     },
     "execution_count": 90,
     "metadata": {},
     "output_type": "execute_result"
    }
   ],
   "source": [
    "#  (額外) datatime module 的用法\n",
    "\n",
    "#取得當前的時間\n",
    "datetime.datetime.now() \n",
    "\n",
    "#把當前time轉成string\n",
    "datetime.datetime.now().strftime(\"%Y-%m-%d %H:%M:%S\")\n",
    "\n",
    "#把string轉成time\n",
    "datetime.datetime.strptime('2019-12-04 15:45:29',\"%Y-%m-%d %H:%M:%S\")\n",
    "\n",
    "#轉換時間\n",
    "datetime.datetime.fromtimestamp(1421077403.0)\n",
    "\n"
   ]
  },
  {
   "cell_type": "code",
   "execution_count": null,
   "metadata": {},
   "outputs": [],
   "source": []
  },
  {
   "cell_type": "code",
   "execution_count": null,
   "metadata": {},
   "outputs": [],
   "source": []
  }
 ],
 "metadata": {
  "kernelspec": {
   "display_name": "Python 3",
   "language": "python",
   "name": "python3"
  },
  "language_info": {
   "codemirror_mode": {
    "name": "ipython",
    "version": 3
   },
   "file_extension": ".py",
   "mimetype": "text/x-python",
   "name": "python",
   "nbconvert_exporter": "python",
   "pygments_lexer": "ipython3",
   "version": "3.7.4"
  }
 },
 "nbformat": 4,
 "nbformat_minor": 2
}
