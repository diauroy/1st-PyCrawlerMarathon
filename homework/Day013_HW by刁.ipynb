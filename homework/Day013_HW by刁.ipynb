{
 "cells": [
  {
   "cell_type": "markdown",
   "metadata": {},
   "source": [
    "# PTT 網路爬蟲實作練習\n",
    "\n",
    "\n",
    "* 能夠利用 Request + BeatifulSour 撰寫爬蟲，並存放到合適的資料結構\n"
   ]
  },
  {
   "cell_type": "markdown",
   "metadata": {},
   "source": [
    "## 作業目標\n",
    "\n",
    "根據範例 ，完成以下問題：\n",
    "\n",
    "* ① 印出最新文章的「作者」「標題」「時間」\n",
    "* ② 印出第一頁所有文章的「作者」「標題」「時間」\n"
   ]
  },
  {
   "cell_type": "markdown",
   "metadata": {},
   "source": [
    "### ① 印出最新文章的「作者」「標題」「時間」"
   ]
  },
  {
   "cell_type": "code",
   "execution_count": 46,
   "metadata": {},
   "outputs": [
    {
     "name": "stdout",
     "output_type": "stream",
     "text": [
      "作者: whoAU (你是誰？)\n",
      "標題: [情報] 湖人自本月以來就沒有舉行過正式訓練\n",
      "時間: Fri Dec 20 17:23:47 2019\n"
     ]
    }
   ],
   "source": [
    "import requests\n",
    "import re\n",
    "import pandas as pd\n",
    "from bs4 import BeautifulSoup\n",
    "\n",
    "url = 'https://www.ptt.cc/bbs/NBA/index.html'\n",
    "\n",
    "r = requests.get(url)\n",
    "\n",
    "soup = BeautifulSoup(r.text, \"html5lib\")\n",
    "\n",
    "columns = ['作者', '看板', '標題', '時間']\n",
    "\n",
    "\n",
    "items = soup.find_all(True, {\"class\": re.compile(r'(r-ent|r-list-sep)')})\n",
    "for item in range(len(items)):\n",
    "    if 'r-list-sep' in items[item].attrs['class']:\n",
    "        try:\n",
    "            r = BeautifulSoup(requests.get('https://www.ptt.cc'+items[item-1].a['href']).text, \"html5lib\")\n",
    "            article = []\n",
    "            for info in r.find_all(class_='article-meta-value'):\n",
    "                article.append(info.text)\n",
    "            print('作者: {}\\n標題: {}\\n時間: {}'.format(article[0], article[2], article[-1]))\n",
    "        except:\n",
    "            continue\n"
   ]
  },
  {
   "cell_type": "markdown",
   "metadata": {},
   "source": [
    "### ② 印出第一頁所有文章的「作者」「標題」「時間」"
   ]
  },
  {
   "cell_type": "code",
   "execution_count": 65,
   "metadata": {},
   "outputs": [
    {
     "name": "stdout",
     "output_type": "stream",
     "text": [
      "日期:  5/16 作者: Price 標題: [轉錄]Lyotard 對於太陽板討論串的結論\n",
      "日期:  5/31 作者: Price 標題: [公告] 請停止一切關於本次活動的發言\n",
      "日期:  6/08 作者: Frankaze 標題: [轉錄]跟之前那篇比起來 我覺得這篇也應該轉過來\n",
      "日期:  6/08 作者: Frankaze 標題: [轉錄]再轉一篇好文來\n",
      "日期:  6/10 作者: Price 標題: [轉錄][情報] 夏洛特山貓系列\n",
      "日期:  6/10 作者: Price 標題: [轉錄]Re: [心得] 真是受不了糗爺....\n",
      "日期:  6/10 作者: Price 標題: [轉錄]總冠軍賽NO.2觀後感\n",
      "日期:  6/11 作者: AmuroNamie 標題: [心得] Rasheed Wallace\n",
      "日期:  6/12 作者: toptree 標題: 掌控球賽的男人\n",
      "日期:  6/12 作者: skchang 標題: [閒聊] 說說2004季後賽名場面回顧\n",
      "日期:  6/12 作者: shineup 標題: [心得] 其實說穿了 就是活塞的防守太可怕了\n",
      "日期:  6/12 作者: cOvi 標題: Re: [閒聊] 說說2004季後賽名場面回顧\n",
      "日期:  6/12 作者: ykshih 標題: Re: [閒聊] 說說2004季後賽名場面回顧\n",
      "日期:  6/12 作者: Frankaze 標題: Re: [閒聊] 說說2004季後賽名場面回顧\n",
      "日期:  6/14 作者: Price 標題: [轉錄]Re: 總冠軍賽NO.3觀後感\n",
      "日期:  6/14 作者: Frankaze 標題: [轉錄]Re: 總冠軍賽NO.3觀後感\n",
      "日期:  6/14 作者: star1 標題: Re: [轉錄]Re: 總冠軍賽NO.3觀後感\n",
      "日期:  6/14 作者: coldspring 標題: Re: [轉錄]Re: 總冠軍賽NO.3觀後感\n",
      "日期:  6/14 作者: airbear 標題: Re: Kobe is frustrated...\n",
      "日期:  6/14 作者: pennykidd 標題: Re: [轉錄]Re: 總冠軍賽NO.3觀後感\n"
     ]
    }
   ],
   "source": [
    "import requests\n",
    "from  bs4 import BeautifulSoup\n",
    "\n",
    "url='https://www.ptt.cc/bbs/NBA/index1.html'\n",
    "\n",
    "r=requests.get(url)\n",
    "\n",
    "soup=BeautifulSoup(r.text,\"html5lib\")\n",
    "\n",
    "ds=soup.find_all(class_=\"r-ent\")\n",
    "\n",
    "for d in ds:\n",
    "    print(\"日期:\",d.find(class_=\"meta\").find(class_=\"date\").text ,\"作者:\",d.find(class_=\"meta\").find(class_=\"author\").text ,\"標題:\",d.find(class_=\"title\").find('a').text)\n",
    "    \n",
    "    #有父母跟孩子的關係存在"
   ]
  },
  {
   "cell_type": "markdown",
   "metadata": {},
   "source": [
    "### ③ 試著爬爬看其他版的文章"
   ]
  },
  {
   "cell_type": "code",
   "execution_count": 78,
   "metadata": {},
   "outputs": [
    {
     "name": "stdout",
     "output_type": "stream",
     "text": [
      "日期: 12/20 作者: - 標題: \n",
      "\t\t\t\n",
      "\t\t\t\t(本文已被刪除) [b771105]\n",
      "\t\t\t\n",
      "\t\t\t\n",
      "日期: 12/20 作者: b771105 標題: \n",
      "\t\t\t\n",
      "\t\t\t\t[情報] 國立暨南國際大學電機系碩士班考試報名開\n",
      "\t\t\t\n",
      "\t\t\t\n",
      "日期: 12/20 作者: mediashow008 標題: \n",
      "\t\t\t\n",
      "\t\t\t\t[分享] 大學資工社群\n",
      "\t\t\t\n",
      "\t\t\t\n",
      "日期: 12/20 作者: nyu5765 標題: \n",
      "\t\t\t\n",
      "\t\t\t\t[討論] 有人真的會去報淡江嗎??\n",
      "\t\t\t\n",
      "\t\t\t\n",
      "日期: 12/20 作者: shaqgod 標題: \n",
      "\t\t\t\n",
      "\t\t\t\t[請益] 成大電機乙教授請益\n",
      "\t\t\t\n",
      "\t\t\t\n",
      "日期: 12/20 作者: celia0602 標題: \n",
      "\t\t\t\n",
      "\t\t\t\t[請益] 護理背景報考研究所相關疑問\n",
      "\t\t\t\n",
      "\t\t\t\n",
      "日期:  4/20 作者: tenjow 標題: \n",
      "\t\t\t\n",
      "\t\t\t\t[版規] Graduate版版規+問卷文規範\n",
      "\t\t\t\n",
      "\t\t\t\n",
      "日期:  2/13 作者: tenjow 標題: \n",
      "\t\t\t\n",
      "\t\t\t\t[專區] 學術文獻交流分享專區(文獻徵求請利用此)\n",
      "\t\t\t\n",
      "\t\t\t\n",
      "日期:  2/13 作者: tenjow 標題: \n",
      "\t\t\t\n",
      "\t\t\t\t[專區] 考古題解答徵求交換專區\n",
      "\t\t\t\n",
      "\t\t\t\n",
      "日期: 10/01 作者: tenjow 標題: \n",
      "\t\t\t\n",
      "\t\t\t\t[專區] 買賣書暨[計算機]徵求置底專區\n",
      "\t\t\t\n",
      "\t\t\t\n",
      "日期:  6/23 作者: tenjow 標題: \n",
      "\t\t\t\n",
      "\t\t\t\t[公告] 關於【補習班】相關文\n",
      "\t\t\t\n",
      "\t\t\t\n"
     ]
    }
   ],
   "source": [
    "#爬 graduate 版  \n",
    "import requests\n",
    "from  bs4 import BeautifulSoup\n",
    "\n",
    "url='https://www.ptt.cc/bbs/graduate/index.html'\n",
    "\n",
    "r=requests.get(url)\n",
    "\n",
    "soup=BeautifulSoup(r.text,\"html5lib\")\n",
    "\n",
    "ds=soup.find_all(class_=\"r-ent\")\n",
    "\n",
    "for d in ds:\n",
    "    print(\"日期:\", d.find(class_=\"meta\").find(class_=\"date\").text ,\"作者:\", d.find(class_=\"meta\").find(class_=\"author\").text ,\"標題:\",d.find(class_=\"title\").text)\n",
    "\n",
    "    \n",
    "    # d.find(class_=\"title\").find('a').text  無法使用 原因可能是最新的文章底下有公告的文章不符格式\n",
    "    \n",
    "    \n",
    "    "
   ]
  },
  {
   "cell_type": "code",
   "execution_count": 79,
   "metadata": {},
   "outputs": [],
   "source": [
    "#print(soup)"
   ]
  },
  {
   "cell_type": "code",
   "execution_count": 70,
   "metadata": {},
   "outputs": [],
   "source": [
    "#print(soup2)"
   ]
  }
 ],
 "metadata": {
  "kernelspec": {
   "display_name": "Python 3",
   "language": "python",
   "name": "python3"
  },
  "language_info": {
   "codemirror_mode": {
    "name": "ipython",
    "version": 3
   },
   "file_extension": ".py",
   "mimetype": "text/x-python",
   "name": "python",
   "nbconvert_exporter": "python",
   "pygments_lexer": "ipython3",
   "version": "3.7.4"
  }
 },
 "nbformat": 4,
 "nbformat_minor": 2
}
